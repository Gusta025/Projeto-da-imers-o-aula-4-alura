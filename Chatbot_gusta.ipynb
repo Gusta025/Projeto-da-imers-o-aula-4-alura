{
  "nbformat": 4,
  "nbformat_minor": 0,
  "metadata": {
    "colab": {
      "provenance": [],
      "authorship_tag": "ABX9TyOciHV2/ox7pYKELxI+h9nk",
      "include_colab_link": true
    },
    "kernelspec": {
      "name": "python3",
      "display_name": "Python 3"
    },
    "language_info": {
      "name": "python"
    }
  },
  "cells": [
    {
      "cell_type": "markdown",
      "metadata": {
        "id": "view-in-github",
        "colab_type": "text"
      },
      "source": [
        "<a href=\"https://colab.research.google.com/github/Gusta025/Projeto-da-imers-o-aula-4-alura/blob/main/Chatbot_gusta.ipynb\" target=\"_parent\"><img src=\"https://colab.research.google.com/assets/colab-badge.svg\" alt=\"Open In Colab\"/></a>"
      ]
    },
    {
      "cell_type": "markdown",
      "source": [
        "Instalando o SDK do google"
      ],
      "metadata": {
        "id": "jqV7ULx8Mvwb"
      }
    },
    {
      "cell_type": "code",
      "source": [
        "!pip install -q -U google-generativeai"
      ],
      "metadata": {
        "id": "RJIBku28Mtf-"
      },
      "execution_count": 1,
      "outputs": []
    },
    {
      "cell_type": "markdown",
      "source": [
        "Listar os modelos disponíveis\n",
        "E configurar a API"
      ],
      "metadata": {
        "id": "LnBjxTbwNhyn"
      }
    },
    {
      "cell_type": "code",
      "source": [
        "import google.generativeai as genai\n",
        "from google.colab import userdata\n",
        "api_key = userdata.get(\"SECRET_KEY\")\n",
        "genai.configure(api_key=api_key)"
      ],
      "metadata": {
        "id": "mSZB62XYNLYu"
      },
      "execution_count": 67,
      "outputs": []
    },
    {
      "cell_type": "markdown",
      "source": [
        "Listar o modelos da genai"
      ],
      "metadata": {
        "id": "YiPddNtWUBEg"
      }
    },
    {
      "cell_type": "code",
      "source": [
        "for m in genai.list_models():\n",
        "   if 'generateContent' in m.supported_generation_methods:\n",
        "    print(m.name)"
      ],
      "metadata": {
        "colab": {
          "base_uri": "https://localhost:8080/",
          "height": 138
        },
        "id": "6Pl8hA4-Nc56",
        "outputId": "9de4d332-8a6e-4137-f722-b384c416b7d0"
      },
      "execution_count": 3,
      "outputs": [
        {
          "output_type": "stream",
          "name": "stdout",
          "text": [
            "models/gemini-1.0-pro\n",
            "models/gemini-1.0-pro-001\n",
            "models/gemini-1.0-pro-latest\n",
            "models/gemini-1.0-pro-vision-latest\n",
            "models/gemini-1.5-pro-latest\n",
            "models/gemini-pro\n",
            "models/gemini-pro-vision\n"
          ]
        }
      ]
    },
    {
      "cell_type": "markdown",
      "source": [
        "Configurar a temperauta\n",
        "Parâmetro de de busaca pela IA de plavaras gerais, ou específica sobre o assundo pesquisado."
      ],
      "metadata": {
        "id": "6W9l3rowT-XG"
      }
    },
    {
      "cell_type": "code",
      "source": [
        "generation_config = {\n",
        "    \"candidate_count\": 1,\n",
        "    \"temperature\": 0.5\n",
        "}"
      ],
      "metadata": {
        "id": "GzzWrbfqQPB-"
      },
      "execution_count": 5,
      "outputs": []
    },
    {
      "cell_type": "markdown",
      "source": [
        "Configuração de segurança"
      ],
      "metadata": {
        "id": "127tn4EFTz1I"
      }
    },
    {
      "cell_type": "code",
      "source": [
        "safety_settings = {\n",
        "    \"HARASSMENT\": \"BLOCK_NAME\",\n",
        "    \"HATE\": \"BLOCK_NAME\",\n",
        "    \"sEXUAL\": \"BLOCK_NAME\",\n",
        "    \"DANGEROUS\": \"BLOCK_NAME\",\n",
        "}\n",
        "\n"
      ],
      "metadata": {
        "id": "cIheGLO0RjTN"
      },
      "execution_count": 56,
      "outputs": []
    },
    {
      "cell_type": "markdown",
      "source": [
        "Inicializando o modelo"
      ],
      "metadata": {
        "id": "WYsyn6UtVXJy"
      }
    },
    {
      "cell_type": "code",
      "source": [
        "model = genai.GenerativeModel('gemini-pro')"
      ],
      "metadata": {
        "id": "BTLXCn24hanI"
      },
      "execution_count": 58,
      "outputs": []
    },
    {
      "cell_type": "code",
      "source": [
        "response = model.generate_content(\"Vamos aprender conteúdo de IA. Me Dê Sugestões.\")\n",
        "print(response.text)"
      ],
      "metadata": {
        "colab": {
          "base_uri": "https://localhost:8080/",
          "height": 919
        },
        "id": "cfYvwuztj3f9",
        "outputId": "169886eb-6a41-4e66-c11f-35657a04f006"
      },
      "execution_count": 59,
      "outputs": [
        {
          "output_type": "stream",
          "name": "stdout",
          "text": [
            "**Fundamentos Conceituais**\n",
            "\n",
            "* Princípios básicos de Inteligência Artificial (IA)\n",
            "* Aprendizado de Máquina (ML), Aprendizado Profundo (DL) e Processamento de Linguagem Natural (PNL)\n",
            "* Tipos de IA (estreita, geral, super) e seus aplicativos\n",
            "\n",
            "**Técnicas e Algoritmos**\n",
            "\n",
            "* Regressão e Classificação Linear\n",
            "* Árvore de Decisão\n",
            "* Vetores de Suporte (SVMs)\n",
            "* Redes Neurais\n",
            "* Transformadores\n",
            "\n",
            "**Implementação e Ferramentas**\n",
            "\n",
            "* Linguagens de programação para IA (Python, R, Java)\n",
            "* Bibliotecas e frameworks de IA (TensorFlow, Keras, PyTorch)\n",
            "* Ferramentas de desenvolvimento de IA (Jupyter Notebook, Google Colab)\n",
            "\n",
            "**Aplicações e Implicações**\n",
            "\n",
            "* Visão Computacional e Reconhecimento de Imagens\n",
            "* Processamento de Linguagem Natural e Geração de Linguagem\n",
            "* Diagnóstico Médico e Análise de Dados\n",
            "* Robótica e Veículos Autônomos\n",
            "* Implicações éticas e sociais da IA\n",
            "\n",
            "**Recursos de Aprendizagem**\n",
            "\n",
            "**Cursos Online:**\n",
            "\n",
            "* Coursera: https://www.coursera.org/specializations/artificial-intelligence\n",
            "* edX: https://www.edx.org/course/subject/artificial-intelligence\n",
            "\n",
            "**Livros:**\n",
            "\n",
            "* \"Inteligência Artificial: Um Guia Moderno\" de Stuart Russell e Peter Norvig\n",
            "* \"Aprendizado de Máquina para Iniciantes\" de Andreas C. Müller e Sarah Guido\n",
            "* \"Aprendizado Profundo com Python\" de François Chollet\n",
            "\n",
            "**Revistas e Conferências:**\n",
            "\n",
            "* Journal of Artificial Intelligence Research: https://www.jair.org/\n",
            "* Conferência Internacional sobre Aprendizado de Máquina (ICML): https://icml.cc/\n",
            "\n",
            "**Dicas de Aprendizagem**\n",
            "\n",
            "* Comece com os fundamentos e construa gradualmente seu conhecimento\n",
            "* Pratique a implementação de algoritmos e projetos de IA\n",
            "* Junte-se a comunidades e fóruns online para aprender com outros\n",
            "* Mantenha-se atualizado com as últimas tendências e pesquisas em IA\n"
          ]
        }
      ]
    },
    {
      "cell_type": "code",
      "source": [
        "chat = model.start_chat(history=[])\n"
      ],
      "metadata": {
        "id": "0duwCCP8lqp3"
      },
      "execution_count": 60,
      "outputs": []
    },
    {
      "cell_type": "code",
      "source": [
        "prompt = input(\"Espeando pront: \")\n",
        "\n",
        "while prompt != \"fim\":\n",
        " response = chat.send_message(prompt)\n",
        " print(\"Resposta: \", response.text, \"\\n\")\n",
        " prompt = input(\"Espeando pront: \")\n"
      ],
      "metadata": {
        "colab": {
          "base_uri": "https://localhost:8080/",
          "height": 381
        },
        "id": "4mVRxFa2Ce1R",
        "outputId": "a7e6847d-8785-4243-99cb-854a1989a0ee"
      },
      "execution_count": 65,
      "outputs": [
        {
          "name": "stdout",
          "output_type": "stream",
          "text": [
            "Espeando pront: quem criou o quadro as damas de avgnon?\n",
            "Resposta:  Pablo Picasso \n",
            "\n",
            "Espeando pront: em que ano?\n",
            "Resposta:  1907 \n",
            "\n",
            "Espeando pront: quais as características dessa obra?\n",
            "Resposta:  **Características de \"Les Demoiselles d'Avignon\" (As Senhoritas de Avignon) de Pablo Picasso:**\n",
            "\n",
            "* **Cubismo Analítico:** Uma transição do Cubismo Primitivo, com formas geométricas fragmentadas e múltiplas perspectivas.\n",
            "* **Cinco Figuras:** Cinco prostitutas representadas em poses distorcidas e angulares, com rostos mascarados e corpos simplificados.\n",
            "* **Influências Africanas:** Máscaras e esculturas africanas influenciaram a forma e aparência das figuras.\n",
            "* **Espaço Não Ilusório:** O espaço ao redor das figuras não é representado de forma realista, criando uma sensação de ambiguidade e achatamento.\n",
            "* **Perspectivas Múltiplas:** Diferentes partes do corpo das figuras são mostradas de diferentes perspectivas, fragmentando sua aparência.\n",
            "* **Cores Limitadas:** Tons terrosos e neutros são usados, com alguns toques de azul e verde.\n",
            "* **Figuras Geometrizadas:** Os corpos das figuras são reduzidos a formas geométricas simples, como triângulos e cilindros.\n",
            "* **Rosto Máscara:** Os rostos das figuras são representados como máscaras, ocultando suas identidades e emoções.\n",
            "* **Influência sobre o Cubismo:** \"Les Demoiselles d'Avignon\" é considerada uma obra seminal do Cubismo, influenciando artistas como Georges Braque e Juan Gris.\n",
            "* **Controvérsia:** Quando foi exibida pela primeira vez em 1907, a obra causou choque e controvérsia devido à sua representação distorcida e provocativa de mulheres. \n",
            "\n",
            "Espeando pront: fim\n"
          ]
        }
      ]
    },
    {
      "cell_type": "code",
      "source": [
        "chat.history"
      ],
      "metadata": {
        "colab": {
          "base_uri": "https://localhost:8080/"
        },
        "id": "gj0V9N0vMJ9x",
        "outputId": "be7552f9-c7a6-4ef3-f7d6-d97dc76cb685"
      },
      "execution_count": 66,
      "outputs": [
        {
          "output_type": "execute_result",
          "data": {
            "text/plain": [
              "[parts {\n",
              "   text: \"Qual a capital do Jap\\303\\243o?\"\n",
              " }\n",
              " role: \"user\",\n",
              " parts {\n",
              "   text: \"T\\303\\263quio\"\n",
              " }\n",
              " role: \"model\",\n",
              " parts {\n",
              "   text: \"Qual a comida t\\303\\255pica deste pa\\303\\255s?\"\n",
              " }\n",
              " role: \"user\",\n",
              " parts {\n",
              "   text: \"Sushi\"\n",
              " }\n",
              " role: \"model\",\n",
              " parts {\n",
              "   text: \"Seu primo nasceu nesta cidade. Qual \\303\\251 a nacionalidade dele?\"\n",
              " }\n",
              " role: \"user\",\n",
              " parts {\n",
              "   text: \"Japonesa\"\n",
              " }\n",
              " role: \"model\",\n",
              " parts {\n",
              "   text: \"E qual \\303\\251 a popula\\303\\247\\303\\243o desta cidade?\"\n",
              " }\n",
              " role: \"user\",\n",
              " parts {\n",
              "   text: \"13.960.236 (2023)\"\n",
              " }\n",
              " role: \"model\",\n",
              " parts {\n",
              "   text: \"quem criou o quadro as damas de avgnon?\"\n",
              " }\n",
              " role: \"user\",\n",
              " parts {\n",
              "   text: \"Pablo Picasso\"\n",
              " }\n",
              " role: \"model\",\n",
              " parts {\n",
              "   text: \"em que ano?\"\n",
              " }\n",
              " role: \"user\",\n",
              " parts {\n",
              "   text: \"1907\"\n",
              " }\n",
              " role: \"model\",\n",
              " parts {\n",
              "   text: \"quais as caracter\\303\\255sticas dessa obra?\"\n",
              " }\n",
              " role: \"user\",\n",
              " parts {\n",
              "   text: \"**Caracter\\303\\255sticas de \\\"Les Demoiselles d\\'Avignon\\\" (As Senhoritas de Avignon) de Pablo Picasso:**\\n\\n* **Cubismo Anal\\303\\255tico:** Uma transi\\303\\247\\303\\243o do Cubismo Primitivo, com formas geom\\303\\251tricas fragmentadas e m\\303\\272ltiplas perspectivas.\\n* **Cinco Figuras:** Cinco prostitutas representadas em poses distorcidas e angulares, com rostos mascarados e corpos simplificados.\\n* **Influ\\303\\252ncias Africanas:** M\\303\\241scaras e esculturas africanas influenciaram a forma e apar\\303\\252ncia das figuras.\\n* **Espa\\303\\247o N\\303\\243o Ilus\\303\\263rio:** O espa\\303\\247o ao redor das figuras n\\303\\243o \\303\\251 representado de forma realista, criando uma sensa\\303\\247\\303\\243o de ambiguidade e achatamento.\\n* **Perspectivas M\\303\\272ltiplas:** Diferentes partes do corpo das figuras s\\303\\243o mostradas de diferentes perspectivas, fragmentando sua apar\\303\\252ncia.\\n* **Cores Limitadas:** Tons terrosos e neutros s\\303\\243o usados, com alguns toques de azul e verde.\\n* **Figuras Geometrizadas:** Os corpos das figuras s\\303\\243o reduzidos a formas geom\\303\\251tricas simples, como tri\\303\\242ngulos e cilindros.\\n* **Rosto M\\303\\241scara:** Os rostos das figuras s\\303\\243o representados como m\\303\\241scaras, ocultando suas identidades e emo\\303\\247\\303\\265es.\\n* **Influ\\303\\252ncia sobre o Cubismo:** \\\"Les Demoiselles d\\'Avignon\\\" \\303\\251 considerada uma obra seminal do Cubismo, influenciando artistas como Georges Braque e Juan Gris.\\n* **Controv\\303\\251rsia:** Quando foi exibida pela primeira vez em 1907, a obra causou choque e controv\\303\\251rsia devido \\303\\240 sua representa\\303\\247\\303\\243o distorcida e provocativa de mulheres.\"\n",
              " }\n",
              " role: \"model\"]"
            ]
          },
          "metadata": {},
          "execution_count": 66
        }
      ]
    },
    {
      "cell_type": "code",
      "source": [
        "chat.history"
      ],
      "metadata": {
        "colab": {
          "base_uri": "https://localhost:8080/"
        },
        "id": "NmdoUT0_HQt6",
        "outputId": "2b432299-be8e-49be-b196-5d06d7848a15"
      },
      "execution_count": 63,
      "outputs": [
        {
          "output_type": "execute_result",
          "data": {
            "text/plain": [
              "[parts {\n",
              "   text: \"Qual a capital do Jap\\303\\243o?\"\n",
              " }\n",
              " role: \"user\",\n",
              " parts {\n",
              "   text: \"T\\303\\263quio\"\n",
              " }\n",
              " role: \"model\",\n",
              " parts {\n",
              "   text: \"Qual a comida t\\303\\255pica deste pa\\303\\255s?\"\n",
              " }\n",
              " role: \"user\",\n",
              " parts {\n",
              "   text: \"Sushi\"\n",
              " }\n",
              " role: \"model\",\n",
              " parts {\n",
              "   text: \"Seu primo nasceu nesta cidade. Qual \\303\\251 a nacionalidade dele?\"\n",
              " }\n",
              " role: \"user\",\n",
              " parts {\n",
              "   text: \"Japonesa\"\n",
              " }\n",
              " role: \"model\",\n",
              " parts {\n",
              "   text: \"E qual \\303\\251 a popula\\303\\247\\303\\243o desta cidade?\"\n",
              " }\n",
              " role: \"user\",\n",
              " parts {\n",
              "   text: \"13.960.236 (2023)\"\n",
              " }\n",
              " role: \"model\"]"
            ]
          },
          "metadata": {},
          "execution_count": 63
        }
      ]
    },
    {
      "cell_type": "code",
      "source": [
        "#Melhorando a visualização\n",
        "#Código disponível em https://ai.google.dev/tutorials/python_quickstart#import_packages\n",
        "import textwrap\n",
        "from IPython.display import display\n",
        "from IPython.display import Markdown\n",
        "\n",
        "def to_markdown(text):\n",
        "  text = text.replace('•', '  *')\n",
        "  return Markdown(textwrap.indent(text, '> ', predicate=lambda _: True))\n",
        "\n",
        "#Imprimindo o histórico\n",
        "for message in chat.history:\n",
        "  display(to_markdown(f'**{message.role}**: {message.parts[0].text}'))\n",
        "  print('-------------------------------------------')"
      ],
      "metadata": {
        "colab": {
          "base_uri": "https://localhost:8080/",
          "height": 519
        },
        "id": "jF_9P3ziHE3f",
        "outputId": "6e773b67-a412-4704-a9ca-43a240401ff3"
      },
      "execution_count": 64,
      "outputs": [
        {
          "output_type": "display_data",
          "data": {
            "text/plain": [
              "<IPython.core.display.Markdown object>"
            ],
            "text/markdown": "> **user**: Qual a capital do Japão?"
          },
          "metadata": {}
        },
        {
          "output_type": "stream",
          "name": "stdout",
          "text": [
            "-------------------------------------------\n"
          ]
        },
        {
          "output_type": "display_data",
          "data": {
            "text/plain": [
              "<IPython.core.display.Markdown object>"
            ],
            "text/markdown": "> **model**: Tóquio"
          },
          "metadata": {}
        },
        {
          "output_type": "stream",
          "name": "stdout",
          "text": [
            "-------------------------------------------\n"
          ]
        },
        {
          "output_type": "display_data",
          "data": {
            "text/plain": [
              "<IPython.core.display.Markdown object>"
            ],
            "text/markdown": "> **user**: Qual a comida típica deste país?"
          },
          "metadata": {}
        },
        {
          "output_type": "stream",
          "name": "stdout",
          "text": [
            "-------------------------------------------\n"
          ]
        },
        {
          "output_type": "display_data",
          "data": {
            "text/plain": [
              "<IPython.core.display.Markdown object>"
            ],
            "text/markdown": "> **model**: Sushi"
          },
          "metadata": {}
        },
        {
          "output_type": "stream",
          "name": "stdout",
          "text": [
            "-------------------------------------------\n"
          ]
        },
        {
          "output_type": "display_data",
          "data": {
            "text/plain": [
              "<IPython.core.display.Markdown object>"
            ],
            "text/markdown": "> **user**: Seu primo nasceu nesta cidade. Qual é a nacionalidade dele?"
          },
          "metadata": {}
        },
        {
          "output_type": "stream",
          "name": "stdout",
          "text": [
            "-------------------------------------------\n"
          ]
        },
        {
          "output_type": "display_data",
          "data": {
            "text/plain": [
              "<IPython.core.display.Markdown object>"
            ],
            "text/markdown": "> **model**: Japonesa"
          },
          "metadata": {}
        },
        {
          "output_type": "stream",
          "name": "stdout",
          "text": [
            "-------------------------------------------\n"
          ]
        },
        {
          "output_type": "display_data",
          "data": {
            "text/plain": [
              "<IPython.core.display.Markdown object>"
            ],
            "text/markdown": "> **user**: E qual é a população desta cidade?"
          },
          "metadata": {}
        },
        {
          "output_type": "stream",
          "name": "stdout",
          "text": [
            "-------------------------------------------\n"
          ]
        },
        {
          "output_type": "display_data",
          "data": {
            "text/plain": [
              "<IPython.core.display.Markdown object>"
            ],
            "text/markdown": "> **model**: 13.960.236 (2023)"
          },
          "metadata": {}
        },
        {
          "output_type": "stream",
          "name": "stdout",
          "text": [
            "-------------------------------------------\n"
          ]
        }
      ]
    }
  ]
}